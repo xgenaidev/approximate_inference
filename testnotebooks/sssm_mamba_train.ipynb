{
 "cells": [
  {
   "cell_type": "code",
   "execution_count": null,
   "id": "b1aba431-eb9e-4170-b919-c6bc92cbcce0",
   "metadata": {},
   "outputs": [],
   "source": [
    "#a quick attempt at a toy version of github/havenhq/mamba-chat using parts of github/karpathy/nanoGPT \n",
    "import torch\n",
    "import time\n",
    "torch.manual_seed(7)\n",
    "from mamba_ssm.models.mixer_seq_simple import MambaLMHeadModel\n",
    "device = \"cuda\""
   ]
  },
  {
   "cell_type": "code",
   "execution_count": 2,
   "id": "08574c9c-3640-4876-bcc1-5a30e51225bf",
   "metadata": {},
   "outputs": [
    {
     "name": "stdout",
     "output_type": "stream",
     "text": [
      "First Citizen:\n",
      "Before we proceed any further, hear me speak.\n",
      "\n",
      "All:\n",
      "Speak, speak.\n",
      "\n",
      "First Citizen:\n",
      "You\n"
     ]
    }
   ],
   "source": [
    "with open(\"./tiny_shakespeare.txt\", \"r\") as f:\n",
    "    text = f.read()\n",
    "print(text[:100])"
   ]
  },
  {
   "cell_type": "code",
   "execution_count": 3,
   "id": "9a6b49ad-0eab-4956-a518-95877f9ea538",
   "metadata": {},
   "outputs": [],
   "source": [
    "chars = sorted(list(set(text)))\n",
    "vocab_size = len(chars)\n",
    "\n",
    "input_size = 1024\n",
    "batch_size = 4\n",
    "\n",
    "c2i = {c: i for i, c in enumerate(chars)}\n",
    "i2c = {i: c for i, c in enumerate(chars)}\n",
    "\n",
    "encode = lambda s: [c2i[c] for c in s]\n",
    "decode = lambda l: \"\".join([i2c[i] for i in l])\n",
    "\n",
    "data = torch.tensor(encode(text), dtype=torch.long)\n",
    "n = int(len(data) * 0.9)\n",
    "\n",
    "train_data = data[:n]\n",
    "val_data = data[n:]\n",
    "\n",
    "def get_batch(split):\n",
    "    data = train_data if split == \"train\" else val_data\n",
    "    ix = torch.randint(len(data) - input_size, (batch_size,))\n",
    "    x = torch.stack([data[i : i + input_size] for i in ix])\n",
    "    y = torch.stack([data[i + 1 : i + input_size + 1] for i in ix])\n",
    "    x, y = x.pin_memory().to(device, non_blocking=True), y.pin_memory().to(device, non_blocking=True)\n",
    "    return x, y\n",
    "\n",
    "model = MambaLMHeadModel(d_model=768,n_layer=12,vocab_size=vocab_size,device=device)\n",
    "n_params = sum(p.numel() for p in model.parameters() if p.requires_grad)\n",
    "optimizer = torch.optim.AdamW(model.parameters(), lr=0.001)\n",
    "loss_fct = torch.nn.CrossEntropyLoss()"
   ]
  },
  {
   "cell_type": "code",
   "execution_count": 4,
   "id": "a68696ea-0625-46c2-aa4e-8b20ff1309ac",
   "metadata": {},
   "outputs": [
    {
     "name": "stdout",
     "output_type": "stream",
     "text": [
      "  iteration 1 loss: 6.594520092010498\n",
      "  iteration 101 loss: 1.9037998914718628\n",
      "  iteration 201 loss: 1.771459937095642\n",
      "  iteration 301 loss: 1.5928815603256226\n",
      "  iteration 401 loss: 1.6136791706085205\n",
      "  iteration 501 loss: 1.4766533374786377\n",
      "\n",
      "\n",
      "Number of parameters: 45320448\n",
      "Training time:        1.55 min\n"
     ]
    }
   ],
   "source": [
    "# training\n",
    "t_start = time.time()\n",
    "max_iters = 600\n",
    "print_interval = 100\n",
    "for iter in range(max_iters):\n",
    "        \n",
    "    # next batch\n",
    "    xb, yb = get_batch(\"train\")\n",
    "\n",
    "    logits = model(xb).logits\n",
    "    B, T, C = logits.shape\n",
    "    logits = logits.view(B * T, C)\n",
    "    yb = yb.view(B * T)\n",
    "    loss = loss_fct(logits, yb)\n",
    "\n",
    "    optimizer.zero_grad(set_to_none=True)\n",
    "    loss.backward()\n",
    "    optimizer.step()\n",
    "\n",
    "    if iter % print_interval == 0:\n",
    "        print('  iteration {} loss: {}'.format(iter + 1, loss.item()))\n",
    "\n",
    "print(\"\\n\")\n",
    "print(f\"Number of parameters: {n_params}\")\n",
    "print(f\"Training time:        {(time.time() - t_start)/60:.2f} min\")"
   ]
  },
  {
   "cell_type": "code",
   "execution_count": 16,
   "id": "b5913dae-5258-4665-9da9-1ce5e4d804a3",
   "metadata": {},
   "outputs": [
    {
     "name": "stdout",
     "output_type": "stream",
     "text": [
      "Thou shall toil my cause.\n",
      "What tearn, my less huth them?\n",
      "The meets the cause; the thousand hapure\n",
      "Honesty his cannot beating myscler father,\n",
      "Ha! why changes than he inform, imenon\n",
      "Than the grieve bird\n"
     ]
    }
   ],
   "source": [
    "prompt_tokens = torch.tensor(encode(\"Thou shall toil \"),dtype=torch.long, device=device).unsqueeze(1).T\n",
    "out_tokens = model.generate(prompt_tokens, max_length=200,top_k=10,top_p=1.0,temperature=1.1,cg=True)\n",
    "list_chars = out_tokens.tolist()[0]\n",
    "print(decode(list_chars))"
   ]
  },
  {
   "cell_type": "code",
   "execution_count": null,
   "id": "c362824a-c999-4ff3-a80e-6a76e2d30767",
   "metadata": {},
   "outputs": [],
   "source": []
  },
  {
   "cell_type": "code",
   "execution_count": null,
   "id": "0d081eb7-917b-4024-855c-c9001aa354c2",
   "metadata": {},
   "outputs": [],
   "source": []
  },
  {
   "cell_type": "code",
   "execution_count": null,
   "id": "3357ce63-a4aa-4bf9-9e38-0c928a4440f7",
   "metadata": {},
   "outputs": [],
   "source": []
  },
  {
   "cell_type": "code",
   "execution_count": null,
   "id": "2bd18fd5-475b-4401-a53d-3cd873013381",
   "metadata": {},
   "outputs": [],
   "source": []
  },
  {
   "cell_type": "code",
   "execution_count": null,
   "id": "1db98746-66b2-40e7-ab81-c7060271dc51",
   "metadata": {},
   "outputs": [],
   "source": []
  },
  {
   "cell_type": "code",
   "execution_count": null,
   "id": "4b4a0733-6fc4-4afe-b3fc-658fb38a40d9",
   "metadata": {},
   "outputs": [],
   "source": []
  },
  {
   "cell_type": "code",
   "execution_count": null,
   "id": "9dd243f9-daaa-4baf-9a0b-a15b5b8990f2",
   "metadata": {},
   "outputs": [],
   "source": []
  },
  {
   "cell_type": "code",
   "execution_count": null,
   "id": "b2505a9c-f3fc-493a-80ec-fb76f58aa79a",
   "metadata": {},
   "outputs": [],
   "source": []
  },
  {
   "cell_type": "code",
   "execution_count": null,
   "id": "8cfc6a1c-5050-48f5-ac1d-3917a1214f51",
   "metadata": {},
   "outputs": [],
   "source": []
  }
 ],
 "metadata": {
  "kernelspec": {
   "display_name": "Python 3 (ipykernel)",
   "language": "python",
   "name": "python3"
  },
  "language_info": {
   "codemirror_mode": {
    "name": "ipython",
    "version": 3
   },
   "file_extension": ".py",
   "mimetype": "text/x-python",
   "name": "python",
   "nbconvert_exporter": "python",
   "pygments_lexer": "ipython3",
   "version": "3.11.5"
  }
 },
 "nbformat": 4,
 "nbformat_minor": 5
}
